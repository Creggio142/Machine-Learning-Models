{
 "cells": [
  {
   "cell_type": "code",
   "execution_count": 29,
   "id": "924816b5",
   "metadata": {},
   "outputs": [],
   "source": [
    "import pandas as pd\n",
    "import numpy as np\n",
    "from sklearn import tree\n",
    "from sklearn.tree import DecisionTreeClassifier\n",
    "from sklearn.ensemble import RandomForestClassifier \n",
    "from sklearn.linear_model import LogisticRegression\n",
    "from sklearn.neighbors import KNeighborsClassifier\n",
    "from sklearn.naive_bayes import GaussianNB\n",
    "from sklearn.metrics import confusion_matrix\n",
    "import math\n",
    "import matplotlib.pyplot as plt\n",
    "from sklearn.metrics import accuracy_score\n",
    "import seaborn as sns\n",
    "from sklearn.model_selection import train_test_split\n",
    "from sklearn.metrics import classification_report\n",
    "df=pd.read_csv(\"C:/Users/cregg/Downloads/Titanic Dataset.csv\") \n",
    "\n",
    "#The website you may need to obtain the dataset from: https://www.kaggle.com (#1)\n",
    "#Decide which dataset you would like to use and why (#2)\n",
    "\n",
    "#We all thought Titantic was a great and memorable movie. After searching through Kaggle we stumbled across\n",
    "#a Titanic dataset that looks perfect for running through various machine learning models.\n",
    "\n",
    "#Create a new ipynb file in your Jupiter notebook. (#3)\n",
    "#Add codes to load the data into your project. (#4)\n",
    "\n",
    "#The code to load the data into our project is just above."
   ]
  },
  {
   "cell_type": "code",
   "execution_count": 30,
   "id": "20d8a7d2",
   "metadata": {},
   "outputs": [
    {
     "name": "stdout",
     "output_type": "stream",
     "text": [
      "Survived      0\n",
      "Pclass        0\n",
      "Sex           0\n",
      "Age         177\n",
      "Fare          0\n",
      "dtype: int64\n",
      "\n",
      "Fill N/A values in Age with the mean\n",
      "\n",
      "Survived    0\n",
      "Pclass      0\n",
      "Sex         0\n",
      "Age         0\n",
      "Fare        0\n",
      "dtype: int64\n"
     ]
    }
   ],
   "source": [
    "df = df.drop(['PassengerId', 'Name', 'SibSp', 'Parch', 'Ticket', 'Cabin', 'Embarked'], axis=1)\n",
    "print(df.isnull().sum())\n",
    "print(\"\\nFill N/A values in Age with the mean\\n\")\n",
    "df['Age'] = df['Age'].fillna(df['Age'].mean())\n",
    "print(df.isnull().sum())"
   ]
  },
  {
   "cell_type": "code",
   "execution_count": 31,
   "id": "7af111e3",
   "metadata": {},
   "outputs": [
    {
     "data": {
      "text/html": [
       "<div>\n",
       "<style scoped>\n",
       "    .dataframe tbody tr th:only-of-type {\n",
       "        vertical-align: middle;\n",
       "    }\n",
       "\n",
       "    .dataframe tbody tr th {\n",
       "        vertical-align: top;\n",
       "    }\n",
       "\n",
       "    .dataframe thead th {\n",
       "        text-align: right;\n",
       "    }\n",
       "</style>\n",
       "<table border=\"1\" class=\"dataframe\">\n",
       "  <thead>\n",
       "    <tr style=\"text-align: right;\">\n",
       "      <th></th>\n",
       "      <th>Survived</th>\n",
       "      <th>Pclass</th>\n",
       "      <th>Age</th>\n",
       "      <th>Fare</th>\n",
       "      <th>Sex_male</th>\n",
       "    </tr>\n",
       "  </thead>\n",
       "  <tbody>\n",
       "    <tr>\n",
       "      <th>0</th>\n",
       "      <td>0</td>\n",
       "      <td>3</td>\n",
       "      <td>22.0</td>\n",
       "      <td>7.2500</td>\n",
       "      <td>1</td>\n",
       "    </tr>\n",
       "    <tr>\n",
       "      <th>1</th>\n",
       "      <td>1</td>\n",
       "      <td>1</td>\n",
       "      <td>38.0</td>\n",
       "      <td>71.2833</td>\n",
       "      <td>0</td>\n",
       "    </tr>\n",
       "    <tr>\n",
       "      <th>2</th>\n",
       "      <td>1</td>\n",
       "      <td>3</td>\n",
       "      <td>26.0</td>\n",
       "      <td>7.9250</td>\n",
       "      <td>0</td>\n",
       "    </tr>\n",
       "    <tr>\n",
       "      <th>3</th>\n",
       "      <td>1</td>\n",
       "      <td>1</td>\n",
       "      <td>35.0</td>\n",
       "      <td>53.1000</td>\n",
       "      <td>0</td>\n",
       "    </tr>\n",
       "    <tr>\n",
       "      <th>4</th>\n",
       "      <td>0</td>\n",
       "      <td>3</td>\n",
       "      <td>35.0</td>\n",
       "      <td>8.0500</td>\n",
       "      <td>1</td>\n",
       "    </tr>\n",
       "  </tbody>\n",
       "</table>\n",
       "</div>"
      ],
      "text/plain": [
       "   Survived  Pclass   Age     Fare  Sex_male\n",
       "0         0       3  22.0   7.2500         1\n",
       "1         1       1  38.0  71.2833         0\n",
       "2         1       3  26.0   7.9250         0\n",
       "3         1       1  35.0  53.1000         0\n",
       "4         0       3  35.0   8.0500         1"
      ]
     },
     "execution_count": 31,
     "metadata": {},
     "output_type": "execute_result"
    }
   ],
   "source": [
    "df = pd.get_dummies(df, columns=['Sex']) #Convert M/F for \"Sex\" to dummy variables 1/0\n",
    "df = df.drop(['Sex_female'], axis = 1) #Drop extra redundant column\n",
    "df.head()"
   ]
  },
  {
   "cell_type": "code",
   "execution_count": 32,
   "id": "4e3ec583",
   "metadata": {},
   "outputs": [
    {
     "name": "stdout",
     "output_type": "stream",
     "text": [
      "EDA Checking for sknewness/normality of the data\n",
      "\n",
      "Survived    0.478523\n",
      "Pclass     -0.630548\n",
      "Age         0.434488\n",
      "Fare        4.787317\n",
      "Sex_male   -0.618921\n",
      "dtype: float64 \n",
      "\n",
      "Fare has a relatively high value of 4.78 therefore we will adjust the data to correct for this.\n",
      "\n",
      "Survived    0.478523\n",
      "Pclass     -0.630548\n",
      "Age         0.434488\n",
      "Fare        2.085004\n",
      "Sex_male   -0.618921\n",
      "dtype: float64 \n",
      "\n",
      "After adjusting the data we recieve a new value of 2.08 which is more reasonable.\n"
     ]
    }
   ],
   "source": [
    "#Transformation of the data (#10)\n",
    "\n",
    "print(\"EDA Checking for sknewness/normality of the data\\n\")\n",
    "print(df.skew(axis = 0, skipna = True), '\\n') \n",
    "print(\"Fare has a relatively high value of 4.78 therefore we will adjust the data to correct for this.\\n\")\n",
    "df.Fare = np.sqrt(df.Fare)\n",
    "print(df.skew(axis = 0, skipna = True), '\\n')\n",
    "print(\"After adjusting the data we recieve a new value of 2.08 which is more reasonable.\")"
   ]
  },
  {
   "cell_type": "code",
   "execution_count": 51,
   "id": "2fea9c7f",
   "metadata": {},
   "outputs": [
    {
     "data": {
      "text/plain": [
       "<seaborn.axisgrid.FacetGrid at 0x1fbb1cfffa0>"
      ]
     },
     "execution_count": 51,
     "metadata": {},
     "output_type": "execute_result"
    },
    {
     "data": {
      "image/png": "[encoded data removed]",
      "text/plain": [
       "<Figure size 411.875x360 with 1 Axes>"
      ]
     },
     "metadata": {
      "needs_background": "light"
     },
     "output_type": "display_data"
    },
    {
     "data": {
      "image/png": "[encoded data removed]",
      "text/plain": [
       "<Figure size 432x216 with 2 Axes>"
      ]
     },
     "metadata": {
      "needs_background": "light"
     },
     "output_type": "display_data"
    }
   ],
   "source": [
    "#Carefully evaluate which model works for your data set and clean or transform your data set\n",
    "#(e.g. ScatterPlot, BoxPlot, Histogram/DensityPlot) (#6)\n",
    "\n",
    "df[['Pclass', 'Survived']].groupby(['Pclass'], as_index=False).mean().sort_values(by='Survived', ascending=False)\n",
    "df[[\"Sex_male\", \"Survived\"]].groupby(['Sex_male'], as_index=False).mean().sort_values(by='Survived', ascending=False)\n",
    " \n",
    "sns.catplot(x =\"Sex_male\", hue =\"Survived\",\n",
    "kind =\"count\", data = df)\n",
    "survival_age = sns.FacetGrid(df, col='Survived')\n",
    "survival_age.map(plt.hist, 'Age', bins=10)"
   ]
  },
  {
   "cell_type": "code",
   "execution_count": 47,
   "id": "f639707e",
   "metadata": {},
   "outputs": [],
   "source": [
    "#Split dataset into training and test dataset, use training dataset to create the model (#5)\n",
    "#We wanted to set our target variable to whether they survived or not and then we split the data into training/testing\n",
    "#with a 80/20 split\n",
    "predictor = df.drop([\"Survived\"], axis=1)\n",
    "target = df[\"Survived\"]\n",
    "X_train, X_test, Y_train, Y_test = train_test_split(predictor, target, test_size = 0.2, random_state = 0)"
   ]
  },
  {
   "cell_type": "code",
   "execution_count": 41,
   "id": "931a574d",
   "metadata": {},
   "outputs": [
    {
     "data": {
      "text/plain": [
       "(712, 4)"
      ]
     },
     "execution_count": 41,
     "metadata": {},
     "output_type": "execute_result"
    }
   ],
   "source": [
    "X_train.shape"
   ]
  },
  {
   "cell_type": "code",
   "execution_count": 42,
   "id": "37c2b1ac",
   "metadata": {},
   "outputs": [
    {
     "data": {
      "text/plain": [
       "(179, 4)"
      ]
     },
     "execution_count": 42,
     "metadata": {},
     "output_type": "execute_result"
    }
   ],
   "source": [
    "X_test.shape"
   ]
  },
  {
   "cell_type": "code",
   "execution_count": 349,
   "id": "9125db60",
   "metadata": {},
   "outputs": [
    {
     "name": "stdout",
     "output_type": "stream",
     "text": [
      "              precision    recall  f1-score   support\n",
      "\n",
      "           0       0.82      0.90      0.86       110\n",
      "           1       0.81      0.70      0.75        69\n",
      "\n",
      "    accuracy                           0.82       179\n",
      "   macro avg       0.82      0.80      0.81       179\n",
      "weighted avg       0.82      0.82      0.82       179\n",
      "\n",
      "[[99 11]\n",
      " [21 48]]\n",
      "\n",
      "Decision Tree accuracy is: 82.12 %\n"
     ]
    }
   ],
   "source": [
    "#Implement the models you select against your dataset. May need to go back and forth (#7)\n",
    "#Run the diagnostic test on the model you created, predict the test dataset and get the performance (#8)\n",
    "#Interpret the result and how you want to use your model (#9)\n",
    "\n",
    "dtclassifier = DecisionTreeClassifier(max_leaf_nodes=10)\n",
    "dtclassifier.fit(X_train, Y_train)\n",
    "\n",
    "y_pred = DTclassifier.predict(X_test)\n",
    "\n",
    "print(classification_report(Y_test, y_pred))\n",
    "print(confusion_matrix(Y_test, y_pred))\n",
    "\n",
    "dt_score = round((accuracy_score(y_pred, Y_test)*100), 2)\n",
    "print('\\nDecision Tree accuracy is:', dt_score, '%')"
   ]
  },
  {
   "cell_type": "code",
   "execution_count": 350,
   "id": "bcbf95bb",
   "metadata": {},
   "outputs": [
    {
     "name": "stdout",
     "output_type": "stream",
     "text": [
      "              precision    recall  f1-score   support\n",
      "\n",
      "           0       0.81      0.84      0.83       110\n",
      "           1       0.73      0.70      0.71        69\n",
      "\n",
      "    accuracy                           0.78       179\n",
      "   macro avg       0.77      0.77      0.77       179\n",
      "weighted avg       0.78      0.78      0.78       179\n",
      "\n",
      "[[92 18]\n",
      " [21 48]]\n",
      "\n",
      "Logistic Regression accuracy is: 78.21 %\n"
     ]
    }
   ],
   "source": [
    "lrclassifier = LogisticRegression(solver='liblinear', max_iter=5000)\n",
    "lrclassifier.fit(X_train, Y_train)\n",
    "\n",
    "y_pred = lrclassifier.predict(X_test)\n",
    "\n",
    "print(classification_report(Y_test, y_pred))\n",
    "print(confusion_matrix(Y_test, y_pred))\n",
    "\n",
    "lr_score = round((accuracy_score(y_pred, Y_test)*100), 2)\n",
    "print('\\nLogistic Regression accuracy is:', lr_score, '%')"
   ]
  },
  {
   "cell_type": "code",
   "execution_count": 351,
   "id": "94379ef0",
   "metadata": {},
   "outputs": [
    {
     "name": "stdout",
     "output_type": "stream",
     "text": [
      "              precision    recall  f1-score   support\n",
      "\n",
      "           0       0.73      0.95      0.83       110\n",
      "           1       0.84      0.45      0.58        69\n",
      "\n",
      "    accuracy                           0.75       179\n",
      "   macro avg       0.79      0.70      0.71       179\n",
      "weighted avg       0.77      0.75      0.73       179\n",
      "\n",
      "[[104   6]\n",
      " [ 38  31]]\n",
      "\n",
      "K Neighbors Classifier accuracy is: 75.42 %\n"
     ]
    }
   ],
   "source": [
    "knclassifier = KNeighborsClassifier(n_neighbors=50)\n",
    "knclassifier.fit(X_train, Y_train)\n",
    "\n",
    "y_pred = knclassifier.predict(X_test)\n",
    "\n",
    "print(classification_report(Y_test, y_pred))\n",
    "print(confusion_matrix(Y_test, y_pred))\n",
    "\n",
    "kn_score = round((accuracy_score(y_pred, Y_test)*100), 2)\n",
    "print('\\nK Neighbors Classifier accuracy is:', kn_score, '%')"
   ]
  },
  {
   "cell_type": "code",
   "execution_count": 352,
   "id": "824c2452",
   "metadata": {},
   "outputs": [
    {
     "name": "stdout",
     "output_type": "stream",
     "text": [
      "              precision    recall  f1-score   support\n",
      "\n",
      "           0       0.81      0.90      0.85       110\n",
      "           1       0.81      0.67      0.73        69\n",
      "\n",
      "    accuracy                           0.81       179\n",
      "   macro avg       0.81      0.78      0.79       179\n",
      "weighted avg       0.81      0.81      0.81       179\n",
      "\n",
      "[[99 11]\n",
      " [23 46]]\n",
      "\n",
      "Random Forest accuracy is: 81.01 %\n"
     ]
    }
   ],
   "source": [
    "rfclassifier = RandomForestClassifier(max_leaf_nodes=10)\n",
    "rfclassifier.fit(X_train, Y_train)\n",
    "\n",
    "y_pred = rfclassifier.predict(X_test)\n",
    "\n",
    "print(classification_report(Y_test, y_pred))\n",
    "print(confusion_matrix(Y_test, y_pred))\n",
    "\n",
    "rf_score = round((accuracy_score(y_pred, Y_test)*100), 2)\n",
    "print('\\nRandom Forest accuracy is:', rf_score, '%')"
   ]
  },
  {
   "cell_type": "code",
   "execution_count": 353,
   "id": "6411d858",
   "metadata": {},
   "outputs": [
    {
     "name": "stdout",
     "output_type": "stream",
     "text": [
      "              precision    recall  f1-score   support\n",
      "\n",
      "           0       0.85      0.79      0.82       110\n",
      "           1       0.70      0.78      0.74        69\n",
      "\n",
      "    accuracy                           0.79       179\n",
      "   macro avg       0.78      0.79      0.78       179\n",
      "weighted avg       0.79      0.79      0.79       179\n",
      "\n",
      "[[87 23]\n",
      " [15 54]]\n",
      "\n",
      "Gaussian Naive Bayes accuracy is: 78.77 %\n"
     ]
    }
   ],
   "source": [
    "gaussian = GaussianNB()\n",
    "gaussian.fit(X_train, Y_train)\n",
    "\n",
    "y_pred = gaussian.predict(X_test)\n",
    "\n",
    "print(classification_report(Y_test, y_pred))\n",
    "print(confusion_matrix(Y_test, y_pred))\n",
    "\n",
    "nb_score = round((accuracy_score(y_pred, Y_test)*100), 2)\n",
    "print('\\nGaussian Naive Bayes accuracy is:', nb_score, '%')"
   ]
  },
  {
   "cell_type": "code",
   "execution_count": 354,
   "id": "e7b5690e",
   "metadata": {},
   "outputs": [
    {
     "data": {
      "text/html": [
       "<div>\n",
       "<style scoped>\n",
       "    .dataframe tbody tr th:only-of-type {\n",
       "        vertical-align: middle;\n",
       "    }\n",
       "\n",
       "    .dataframe tbody tr th {\n",
       "        vertical-align: top;\n",
       "    }\n",
       "\n",
       "    .dataframe thead th {\n",
       "        text-align: right;\n",
       "    }\n",
       "</style>\n",
       "<table border=\"1\" class=\"dataframe\">\n",
       "  <thead>\n",
       "    <tr style=\"text-align: right;\">\n",
       "      <th></th>\n",
       "      <th>Model</th>\n",
       "      <th>Score</th>\n",
       "    </tr>\n",
       "  </thead>\n",
       "  <tbody>\n",
       "    <tr>\n",
       "      <th>0</th>\n",
       "      <td>Decision Tree</td>\n",
       "      <td>82.12</td>\n",
       "    </tr>\n",
       "    <tr>\n",
       "      <th>3</th>\n",
       "      <td>Random Forest</td>\n",
       "      <td>81.01</td>\n",
       "    </tr>\n",
       "    <tr>\n",
       "      <th>4</th>\n",
       "      <td>Gaussian Naive Bayes</td>\n",
       "      <td>78.77</td>\n",
       "    </tr>\n",
       "    <tr>\n",
       "      <th>1</th>\n",
       "      <td>Logistic Regression</td>\n",
       "      <td>78.21</td>\n",
       "    </tr>\n",
       "    <tr>\n",
       "      <th>2</th>\n",
       "      <td>KNeighbors</td>\n",
       "      <td>75.42</td>\n",
       "    </tr>\n",
       "  </tbody>\n",
       "</table>\n",
       "</div>"
      ],
      "text/plain": [
       "                  Model  Score\n",
       "0         Decision Tree  82.12\n",
       "3         Random Forest  81.01\n",
       "4  Gaussian Naive Bayes  78.77\n",
       "1   Logistic Regression  78.21\n",
       "2            KNeighbors  75.42"
      ]
     },
     "execution_count": 354,
     "metadata": {},
     "output_type": "execute_result"
    }
   ],
   "source": [
    "models = pd.DataFrame({\n",
    "    'Model': ['Decision Tree', 'Logistic Regression', \n",
    "              'KNeighbors', 'Random Forest', 'Gaussian Naive Bayes'],\n",
    "    'Score': [dt_score, lr_score, kn_score, \n",
    "              rf_score, nb_score]})\n",
    "models.sort_values(by='Score', ascending=False)"
   ]
  }
 ],
 "metadata": {
  "kernelspec": {
   "display_name": "Python 3",
   "language": "python",
   "name": "python3"
  },
  "language_info": {
   "codemirror_mode": {
    "name": "ipython",
    "version": 3
   },
   "file_extension": ".py",
   "mimetype": "text/x-python",
   "name": "python",
   "nbconvert_exporter": "python",
   "pygments_lexer": "ipython3",
   "version": "3.8.8"
  }
 },
 "nbformat": 4,
 "nbformat_minor": 5
}
